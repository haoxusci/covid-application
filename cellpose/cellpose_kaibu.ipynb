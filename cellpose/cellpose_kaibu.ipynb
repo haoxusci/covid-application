{
 "cells": [
  {
   "cell_type": "markdown",
   "metadata": {},
   "source": [
    "### check or install cuda version, e.g.,conda install cudatoolkit=10.1\n",
    "```\n",
    "##pip install cellpose\n",
    "pip uninstall mxnet-mkl\n",
    "pip uninstall mxnet\n",
    "pip install mxnet-cu101 \n",
    "conda install -c anaconda ipython\n",
    "```\n",
    "### imjoy\n",
    "```\n",
    "pip install imjoy\n",
    "pip install -U imjoy-jupyter-extension\n",
    "\n",
    "```"
   ]
  },
  {
   "cell_type": "code",
   "execution_count": 4,
   "metadata": {},
   "outputs": [
    {
     "data": {
      "application/javascript": [
       "window.connectPlugin && window.connectPlugin()"
      ],
      "text/plain": [
       "<IPython.core.display.Javascript object>"
      ]
     },
     "metadata": {},
     "output_type": "display_data"
    },
    {
     "data": {
      "text/html": [
       "<div id=\"1c531874-2a1f-447f-aa64-645125ee9671\"></div>"
      ],
      "text/plain": [
       "<IPython.core.display.HTML object>"
      ]
     },
     "metadata": {},
     "output_type": "display_data"
    }
   ],
   "source": [
    "from imjoy import api\n",
    "import numpy as np\n",
    "import asyncio\n",
    "# import imageio\n",
    "\n",
    "class ImJoyPlugin():\n",
    "    async def setup(self):\n",
    "        pass\n",
    "\n",
    "    async def run(self, ctx):\n",
    "        viewer = await api.createWindow(src=\"https://kaibu.org/#/app\")\n",
    "\n",
    "        # create a random image\n",
    "        image = np.random.randint(0, 255, [500, 500], dtype='uint8')\n",
    "        \n",
    "        # or you can try if you also did `pip install imageio` and `import imageio`\n",
    "        # image = imageio.imread(\"https://images.proteinatlas.org/19661/221_G2_1_red_green.jpg\")\n",
    "\n",
    "        # view image\n",
    "        await viewer.view_image(image, type=\"itk-vtk\", name=\"random pixels\")\n",
    "\n",
    "api.export(ImJoyPlugin())"
   ]
  },
  {
   "cell_type": "code",
   "execution_count": null,
   "metadata": {},
   "outputs": [],
   "source": []
  }
 ],
 "metadata": {
  "kernelspec": {
   "display_name": "Python 3",
   "language": "python",
   "name": "python3"
  },
  "language_info": {
   "codemirror_mode": {
    "name": "ipython",
    "version": 3
   },
   "file_extension": ".py",
   "mimetype": "text/x-python",
   "name": "python",
   "nbconvert_exporter": "python",
   "pygments_lexer": "ipython3",
   "version": "3.8.3"
  }
 },
 "nbformat": 4,
 "nbformat_minor": 2
}
