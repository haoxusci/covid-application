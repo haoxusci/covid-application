{
 "cells": [
  {
   "cell_type": "markdown",
   "metadata": {},
   "source": [
    "## check or install cuda version, e.g.,conda install cudatoolkit=10.1\n",
    "```\n",
    "##pip install cellpose\n",
    "pip uninstall mxnet-mkl\n",
    "pip uninstall mxnet\n",
    "pip install mxnet-cu101 \n",
    "conda install -c anaconda ipython\n",
    "```\n",
    "### imjoy\n",
    "```\n",
    "pip install imjoy\n",
    "pip install -U imjoy-jupyter-extension\n",
    "\n",
    "```"
   ]
  },
  {
   "cell_type": "markdown",
   "metadata": {},
   "source": [
    "#### This is a magic command to run using imjoy api without export ImjoyPlugin, after first run\n",
    "```\n",
    "await asyncio.ensure_future(run())\n",
    "```"
   ]
  },
  {
   "cell_type": "code",
   "execution_count": null,
   "metadata": {},
   "outputs": [],
   "source": [
    "from imjoy import api\n",
    "import numpy as np\n",
    "import asyncio\n",
    "# import imageio\n",
    "\n",
    "class ImJoyPlugin():\n",
    "    async def setup(self):\n",
    "        pass\n",
    "\n",
    "    async def run(self, ctx):\n",
    "        viewer = await api.createWindow(src=\"https://kaibu.org/#/app\")\n",
    "\n",
    "        image = np.random.randint(0, 255, [500, 500], dtype='uint8')\n",
    "\n",
    "        # view image\n",
    "        await viewer.view_image(image, type=\"itk-vtk\", name=\"random pixels\")\n",
    "\n",
    "        points = np.random.randint(0, 500, [100, 2], dtype='uint16')\n",
    "        layer = await viewer.add_points(points, face_color=\"red\")\n",
    "\n",
    "        async def say_hello():\n",
    "            await api.alert('Hello!')\n",
    "\n",
    "        async def get_geojson_features():\n",
    "            # get the annotation in geojson format\n",
    "            features = await layer.get_features()\n",
    "            await api.alert(str(features))\n",
    "\n",
    "        await viewer.set_ui({\"title\": \"Utilities\",\n",
    "                             \"elements\": [\n",
    "                                 {\"_rintf\": True,\n",
    "                                  \"type\": \"button\",\n",
    "                                  \"label\": \"Say Hello\",\n",
    "                                  \"callback\": say_hello\n",
    "                                 },\n",
    "                                 {\"_rintf\": True,\n",
    "                                  \"type\": \"button\",\n",
    "                                  \"label\": \"Show GeoJSON\",\n",
    "                                  \"callback\": get_geojson_features\n",
    "                                 },\n",
    "\n",
    "                             ]\n",
    "                            })\n",
    "api.export(ImJoyPlugin())"
   ]
  }
 ],
 "metadata": {
  "kernelspec": {
   "display_name": "Python 3",
   "language": "python",
   "name": "python3"
  },
  "language_info": {
   "codemirror_mode": {
    "name": "ipython",
    "version": 3
   },
   "file_extension": ".py",
   "mimetype": "text/x-python",
   "name": "python",
   "nbconvert_exporter": "python",
   "pygments_lexer": "ipython3",
   "version": "3.8.3"
  }
 },
 "nbformat": 4,
 "nbformat_minor": 2
}
